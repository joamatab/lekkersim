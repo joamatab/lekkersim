{
 "cells": [
  {
   "cell_type": "markdown",
   "metadata": {},
   "source": [
    "# Insight and debug\n",
    "In order to explore the structure of a solver and to debug eventual mistakes, a few function are provided. Three are methods of the solver class:\n",
    "- `show_structures()`: print a list of the structures inside the solver\n",
    "- `show_connections()`: print a list of the internal connections between the structures in the solver\n",
    "- `show_free_pins()`: print a list of the free pins of the structures inside the solver with the corresponding mapping to the external pins. All the pin showed here needs to me mapped for the code to work.\n",
    "- `inspect()`: goes through the full hierarchy of the solver, printing for each layer the solvers and models contained in the top solver.\n",
    "\n",
    "In order to see them in action, some structure are needed. The ones from the guide on parametric blocks will be rebuilt and used."
   ]
  },
  {
   "cell_type": "code",
   "execution_count": 1,
   "metadata": {},
   "outputs": [],
   "source": [
    "import solver as sv\n",
    "\n",
    "with sv.Solver(name='MZM') as MZM_bal:\n",
    "    WG=sv.Waveguide(L=10.0, n=2.5)\n",
    "    BM=sv.GeneralBeamSplitter(ratio=0.5)\n",
    "    PS=sv.PhaseShifter(param_name='PS')\n",
    "    \n",
    "    bm1=BM.put()\n",
    "    wg1=WG.put('a0',bm1.pin['b0'])\n",
    "    wg2=WG.put('a0',bm1.pin['b1'])\n",
    "    ps1 =PS.put('a0',wg1.pin['b0'],param_mapping={'PS': 'PS1'})\n",
    "    ps2 =PS.put('a0',wg2.pin['b0'],param_mapping={'PS': 'PS2'})\n",
    "\n",
    "    bm2=BM.put('a0',ps1.pin['b0'])\n",
    "    sv.connect(ps2.pin['b0'],bm2.pin['a1'])\n",
    "    \n",
    "    sv.Pin('a0').put(bm1.pin['a0'])\n",
    "    sv.Pin('a1').put(bm1.pin['a1'])\n",
    "    sv.Pin('b0').put(bm2.pin['b0'])\n",
    "    sv.Pin('b1').put(bm2.pin['b1'])\n",
    "    \n",
    "with sv.Solver(name='IQ_mod') as IQ_mod:\n",
    "    BM=sv.GeneralBeamSplitter(ratio=0.5)\n",
    "    PS=sv.PhaseShifter(param_name='PS')\n",
    "    \n",
    "    bm1=BM.put()\n",
    "    mz1=MZM_bal.put('a0',bm1.pin['b0'],param_mapping={'PS1' : 'I1', 'PS2' : 'I2'})\n",
    "    mz2=MZM_bal.put('a0',bm1.pin['b1'],param_mapping={'PS1' : 'Q1', 'PS2' : 'Q2'})\n",
    "    ps1=PS.put('a0',mz1.pin['b1'], param_mapping={'PS' : 'I'})\n",
    "    ps2=PS.put('a0',mz2.pin['b1'], param_mapping={'PS' : 'Q'})\n",
    "    bm2=BM.put('a0',ps1.pin['b0'])\n",
    "    sv.connect(ps2.pin['b0'],bm2.pin['a1'])\n",
    "    \n",
    "    sv.Pin('a0').put(bm1.pin['a0'])\n",
    "    sv.Pin('a1').put(bm1.pin['a1'])\n",
    "    sv.Pin('b0').put(bm2.pin['b0'])\n",
    "    sv.Pin('b1').put(bm2.pin['b1'])\n",
    "    \n",
    "    sv.Pin('DumIn0').put(mz1.pin['a1'])\n",
    "    sv.Pin('DumIn1').put(mz2.pin['a1'])\n",
    "    sv.Pin('DumOut0').put(mz1.pin['b0'])\n",
    "    sv.Pin('DumOut1').put(mz2.pin['b0'])"
   ]
  },
  {
   "cell_type": "markdown",
   "metadata": {},
   "source": [
    "Here is an example of the output on the 'MZM_bal' solver.\n",
    "### show_structures\n"
   ]
  },
  {
   "cell_type": "code",
   "execution_count": 2,
   "metadata": {},
   "outputs": [
    {
     "name": "stdout",
     "output_type": "stream",
     "text": [
      "Structures and pins of solver:                 Solver of MZM (id=140107474649552))\n",
      "Structure (id=140107474650056) containing Model of beam-splitter with ratio 0.5 (id=140107474649720)\n",
      "Structure (id=140107474650224) containing Model of waveguide of lenght 10.000 and index 2.500 (id=140107474649664)\n",
      "Structure (id=140107474651064) containing Model of waveguide of lenght 10.000 and index 2.500 (id=140107474649664)\n",
      "Structure (id=140107474586088) containing Model object (id=140107474649832) with pins: ['a0', 'b0']\n",
      "Structure (id=140107474586200) containing Model object (id=140107474649832) with pins: ['a0', 'b0']\n",
      "Structure (id=140107474608256) containing Model of beam-splitter with ratio 0.5 (id=140107474649720)\n",
      "\n"
     ]
    }
   ],
   "source": [
    "MZM_bal.show_structures()"
   ]
  },
  {
   "cell_type": "markdown",
   "metadata": {},
   "source": [
    "### show_connections"
   ]
  },
  {
   "cell_type": "code",
   "execution_count": 3,
   "metadata": {},
   "outputs": [
    {
     "name": "stdout",
     "output_type": "stream",
     "text": [
      "Connection of solver:                 Solver of MZM (id=140107474649552))\n",
      "(Structure (id=140107474650224) containing Model of waveguide of lenght 10.000 and index 2.500 (id=140107474649664),    a0) <--> (Structure (id=140107474650056) containing Model of beam-splitter with ratio 0.5 (id=140107474649720),    b0)\n",
      "(Structure (id=140107474651064) containing Model of waveguide of lenght 10.000 and index 2.500 (id=140107474649664),    a0) <--> (Structure (id=140107474650056) containing Model of beam-splitter with ratio 0.5 (id=140107474649720),    b1)\n",
      "(Structure (id=140107474586088) containing Model object (id=140107474649832) with pins: ['a0', 'b0'],    a0) <--> (Structure (id=140107474650224) containing Model of waveguide of lenght 10.000 and index 2.500 (id=140107474649664),    b0)\n",
      "(Structure (id=140107474586200) containing Model object (id=140107474649832) with pins: ['a0', 'b0'],    a0) <--> (Structure (id=140107474651064) containing Model of waveguide of lenght 10.000 and index 2.500 (id=140107474649664),    b0)\n",
      "(Structure (id=140107474608256) containing Model of beam-splitter with ratio 0.5 (id=140107474649720),    a0) <--> (Structure (id=140107474586088) containing Model object (id=140107474649832) with pins: ['a0', 'b0'],    b0)\n",
      "(Structure (id=140107474586200) containing Model object (id=140107474649832) with pins: ['a0', 'b0'],    b0) <--> (Structure (id=140107474608256) containing Model of beam-splitter with ratio 0.5 (id=140107474649720),    a1)\n",
      "\n"
     ]
    }
   ],
   "source": [
    "MZM_bal.show_connections()"
   ]
  },
  {
   "cell_type": "markdown",
   "metadata": {},
   "source": [
    "### show_free_pins"
   ]
  },
  {
   "cell_type": "code",
   "execution_count": 4,
   "metadata": {},
   "outputs": [
    {
     "name": "stdout",
     "output_type": "stream",
     "text": [
      "Free pins of solver:                 Solver of MZM (id=140107474649552))\n",
      "(Structure (id=140107474650056) containing Model of beam-splitter with ratio 0.5 (id=140107474649720),    a0) -->    a0\n",
      "(Structure (id=140107474650056) containing Model of beam-splitter with ratio 0.5 (id=140107474649720),    a1) -->    a1\n",
      "(Structure (id=140107474608256) containing Model of beam-splitter with ratio 0.5 (id=140107474649720),    b0) -->    b0\n",
      "(Structure (id=140107474608256) containing Model of beam-splitter with ratio 0.5 (id=140107474649720),    b1) -->    b1\n",
      "\n"
     ]
    }
   ],
   "source": [
    "MZM_bal.show_free_pins()"
   ]
  },
  {
   "cell_type": "markdown",
   "metadata": {},
   "source": [
    "## inspect\n",
    "The `inspect` function could be quite useful to debug complex structures, since it is the only one able to navigate the full hierarchy. For example here is the output on `MZM_bal`:"
   ]
  },
  {
   "cell_type": "code",
   "execution_count": 5,
   "metadata": {},
   "outputs": [
    {
     "name": "stdout",
     "output_type": "stream",
     "text": [
      "Solver of MZM (id=140107474649552)\n",
      "  Structure (id=140107474650056) containing Model of beam-splitter with ratio 0.5 (id=140107474649720)\n",
      "  Structure (id=140107474650224) containing Model of waveguide of lenght 10.000 and index 2.500 (id=140107474649664)\n",
      "  Structure (id=140107474651064) containing Model of waveguide of lenght 10.000 and index 2.500 (id=140107474649664)\n",
      "  Structure (id=140107474586088) containing Model object (id=140107474649832) with pins: ['a0', 'b0']\n",
      "  Structure (id=140107474586200) containing Model object (id=140107474649832) with pins: ['a0', 'b0']\n",
      "  Structure (id=140107474608256) containing Model of beam-splitter with ratio 0.5 (id=140107474649720)\n"
     ]
    }
   ],
   "source": [
    "MZM_bal.inspect()"
   ]
  },
  {
   "cell_type": "code",
   "execution_count": 6,
   "metadata": {},
   "outputs": [
    {
     "name": "stdout",
     "output_type": "stream",
     "text": [
      "Solver of IQ_mod (id=140107474649608)\n",
      "  Structure (id=140107002321272) containing Model of beam-splitter with ratio 0.5 (id=140107002320208)\n",
      "  Structure (id=140106476081616) containing Solver of MZM (id=140107474649552)\n",
      "    Structure (id=140107474650056) containing Model of beam-splitter with ratio 0.5 (id=140107474649720)\n",
      "    Structure (id=140107474650224) containing Model of waveguide of lenght 10.000 and index 2.500 (id=140107474649664)\n",
      "    Structure (id=140107474651064) containing Model of waveguide of lenght 10.000 and index 2.500 (id=140107474649664)\n",
      "    Structure (id=140107474586088) containing Model object (id=140107474649832) with pins: ['a0', 'b0']\n",
      "    Structure (id=140107474586200) containing Model object (id=140107474649832) with pins: ['a0', 'b0']\n",
      "    Structure (id=140107474608256) containing Model of beam-splitter with ratio 0.5 (id=140107474649720)\n",
      "  Structure (id=140106476081672) containing Solver of MZM (id=140107474649552)\n",
      "    Structure (id=140107474650056) containing Model of beam-splitter with ratio 0.5 (id=140107474649720)\n",
      "    Structure (id=140107474650224) containing Model of waveguide of lenght 10.000 and index 2.500 (id=140107474649664)\n",
      "    Structure (id=140107474651064) containing Model of waveguide of lenght 10.000 and index 2.500 (id=140107474649664)\n",
      "    Structure (id=140107474586088) containing Model object (id=140107474649832) with pins: ['a0', 'b0']\n",
      "    Structure (id=140107474586200) containing Model object (id=140107474649832) with pins: ['a0', 'b0']\n",
      "    Structure (id=140107474608256) containing Model of beam-splitter with ratio 0.5 (id=140107474649720)\n",
      "  Structure (id=140106476081728) containing Model object (id=140107002320376) with pins: ['a0', 'b0']\n",
      "  Structure (id=140106476081784) containing Model object (id=140107002320376) with pins: ['a0', 'b0']\n",
      "  Structure (id=140106476081840) containing Model of beam-splitter with ratio 0.5 (id=140107002320208)\n"
     ]
    }
   ],
   "source": [
    "IQ_mod.inspect()"
   ]
  },
  {
   "cell_type": "code",
   "execution_count": null,
   "metadata": {},
   "outputs": [],
   "source": []
  }
 ],
 "metadata": {
  "kernelspec": {
   "display_name": "Python 3",
   "language": "python",
   "name": "python3"
  },
  "language_info": {
   "codemirror_mode": {
    "name": "ipython",
    "version": 3
   },
   "file_extension": ".py",
   "mimetype": "text/x-python",
   "name": "python",
   "nbconvert_exporter": "python",
   "pygments_lexer": "ipython3",
   "version": "3.6.9"
  }
 },
 "nbformat": 4,
 "nbformat_minor": 4
}
