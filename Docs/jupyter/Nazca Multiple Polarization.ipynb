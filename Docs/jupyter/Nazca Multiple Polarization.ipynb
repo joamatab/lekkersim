{
 "cells": [
  {
   "cell_type": "markdown",
   "metadata": {},
   "source": [
    "# Multiple modes simulation\n",
    "GenSol integration with Nazca also support simulation of components involving multiple modes. This is a little tricker than simulation involving only one mode, mainly due to the difference in which Nazca and GenSol keep tracks of the different modes. In particular:\n",
    "- for **GenSol** two modes at the same port are effectively two separate ports, with no relation to each other. The fact that a few ports may share the same physical position is irrelevant (no geometry position is considered in **GenSol**).\n",
    "- **Nazca** store the physical the connection. Only one pin exist for all the modes that refer to the same physical port.\n",
    "\n",
    "For this reason, a one to one mapping of the pins between **Nazca** and **GenSol** is not possible if multiple modes are involved. For this reason, the generator of the abstract circuit from **Nazca** will have the following assumptions:\n",
    "- All the pins in **GenSol** have a name in the form 'basename_modename'  (or possibly, only basename). All pins with the same basename refer to the same physical port, which has that name too. \n",
    "- Any operation involving a **Nazca** pin of a certain basename, will be extended to all the **GenSol** pins with the same basenames.\n",
    "- Some **Nazca** cells have the possibility to generate at runtime scattering matrices with a different number of modes, if the right compact model is defined (the same compact models used by the pathfinder). For now, this is limited to interconnects straight and bends (and all derived functions). This is regulated by setting the `allowed` parameter when calling `get_solver`.\n",
    "- For models that are provided directly using **GenSol**'s `Model` class, the right number of ports with the right name needs to be provided. \n",
    " \n",
    " \n",
    "## Setting up\n",
    "\n",
    "### Models built at runtime\n",
    "In order to allow **GenSol** to automatically built the scattering matrix from a compact model at runtime, a compact model must be defined. In order to do this, a python object on which it is possible to call an Neff function need to be added to `XSection` of the interconnects as the `index` attribute.\n",
    "\n",
    "Once this is done, in order to generate the scattering matrix with the right modes at runtime, it is enough to call `get_solver` using the `allowed` parameter, which is a 2 level nested dictionary. Each element of the dictionary has the name of the mode as key, and a dictionary of the parameters to feed into the `Neff` function to get the index of the right mode. Calling `get_solver` without `allowed` is equivalent to call it with `allowed= {'' : dict(pol=0, mode=0)}`."
   ]
  },
  {
   "cell_type": "code",
   "execution_count": 1,
   "metadata": {},
   "outputs": [
    {
     "name": "stdout",
     "output_type": "stream",
     "text": [
      "INFO: index.py: Index models version: 0.5.12.post4-60-gde087ac-dev\n",
      "INFO: netlist.py: pin2pin drc: True\n"
     ]
    }
   ],
   "source": [
    "import nazca as nd\n",
    "from nazca import demofab as demo\n",
    "import solver as sv\n",
    "import numpy as np\n",
    "import matplotlib.pyplot as plt\n",
    "\n",
    "class DummyIndex:\n",
    "    def __init(self):\n",
    "        pass\n",
    "\n",
    "    def Neff(self, width=3.0, radius=0.0, wl=1.55, pol=0, mode=0, **kwargs):\n",
    "        if radius == 0:\n",
    "            return 3.5-0.5*pol-0.1*mode-0.5/(1+width**2)+0.5/wl**2.0\n",
    "        else:\n",
    "            return 3.5-0.5*pol-0.1*mode-0.5/(1+width**2)+1.0/(0.2*radius)+0.5/wl**2.0\n",
    "\n",
    "xs=nd.add_xsection('Shallow')\n",
    "#xs.index = DummyIndex()\n",
    "\n"
   ]
  },
  {
   "cell_type": "markdown",
   "metadata": {},
   "source": [
    "Once the setup is complete, we can generate a strt cell and see how to get different scattering matrix out of it.\n",
    "\n",
    "- As aleady stated, the default behavior of `get_solver` is to generate one **GenSol** pin for each **Nazca** one (keeping the same name):"
   ]
  },
  {
   "cell_type": "code",
   "execution_count": 2,
   "metadata": {},
   "outputs": [
    {
     "data": {
      "text/html": [
       "<div>\n",
       "<style scoped>\n",
       "    .dataframe tbody tr th:only-of-type {\n",
       "        vertical-align: middle;\n",
       "    }\n",
       "\n",
       "    .dataframe tbody tr th {\n",
       "        vertical-align: top;\n",
       "    }\n",
       "\n",
       "    .dataframe thead th {\n",
       "        text-align: right;\n",
       "    }\n",
       "</style>\n",
       "<table border=\"1\" class=\"dataframe\">\n",
       "  <thead>\n",
       "    <tr style=\"text-align: right;\">\n",
       "      <th></th>\n",
       "      <th>a0</th>\n",
       "      <th>b0</th>\n",
       "    </tr>\n",
       "  </thead>\n",
       "  <tbody>\n",
       "    <tr>\n",
       "      <th>a0</th>\n",
       "      <td>0.000000+0.000000j</td>\n",
       "      <td>0.999721+0.023620j</td>\n",
       "    </tr>\n",
       "    <tr>\n",
       "      <th>b0</th>\n",
       "      <td>0.999721+0.023620j</td>\n",
       "      <td>0.000000+0.000000j</td>\n",
       "    </tr>\n",
       "  </tbody>\n",
       "</table>\n",
       "</div>"
      ],
      "text/plain": [
       "                    a0                  b0\n",
       "a0  0.000000+0.000000j  0.999721+0.023620j\n",
       "b0  0.999721+0.023620j  0.000000+0.000000j"
      ]
     },
     "execution_count": 2,
     "metadata": {},
     "output_type": "execute_result"
    }
   ],
   "source": [
    "e=demo.shallow.strt(50.0)\n",
    "\n",
    "S=nd.get_solver(e)\n",
    "S.solve(wl=1.55).S2PD()"
   ]
  },
  {
   "cell_type": "markdown",
   "metadata": {},
   "source": [
    "- Calling it with a custom defined `allowed`, will created multiple **GenSol** pins for each **Nazca** one, appending the mode name to the pin name (note that since different options are passed to the Neff function fro the different modes the phase of the scattering matrix elements are different): "
   ]
  },
  {
   "cell_type": "code",
   "execution_count": 3,
   "metadata": {},
   "outputs": [
    {
     "data": {
      "text/html": [
       "<div>\n",
       "<style scoped>\n",
       "    .dataframe tbody tr th:only-of-type {\n",
       "        vertical-align: middle;\n",
       "    }\n",
       "\n",
       "    .dataframe tbody tr th {\n",
       "        vertical-align: top;\n",
       "    }\n",
       "\n",
       "    .dataframe thead th {\n",
       "        text-align: right;\n",
       "    }\n",
       "</style>\n",
       "<table border=\"1\" class=\"dataframe\">\n",
       "  <thead>\n",
       "    <tr style=\"text-align: right;\">\n",
       "      <th></th>\n",
       "      <th>a0_TE</th>\n",
       "      <th>a0_TM</th>\n",
       "      <th>b0_TE</th>\n",
       "      <th>b0_TM</th>\n",
       "    </tr>\n",
       "  </thead>\n",
       "  <tbody>\n",
       "    <tr>\n",
       "      <th>a0_TE</th>\n",
       "      <td>0.000000+0.000000j</td>\n",
       "      <td>0.000000+0.000000j</td>\n",
       "      <td>0.999721+0.023620j</td>\n",
       "      <td>0.000000+0.000000j</td>\n",
       "    </tr>\n",
       "    <tr>\n",
       "      <th>a0_TM</th>\n",
       "      <td>0.000000+0.000000j</td>\n",
       "      <td>0.000000+0.000000j</td>\n",
       "      <td>0.000000+0.000000j</td>\n",
       "      <td>0.705894-0.708317j</td>\n",
       "    </tr>\n",
       "    <tr>\n",
       "      <th>b0_TE</th>\n",
       "      <td>0.999721+0.023620j</td>\n",
       "      <td>0.000000+0.000000j</td>\n",
       "      <td>0.000000+0.000000j</td>\n",
       "      <td>0.000000+0.000000j</td>\n",
       "    </tr>\n",
       "    <tr>\n",
       "      <th>b0_TM</th>\n",
       "      <td>0.000000+0.000000j</td>\n",
       "      <td>0.705894-0.708317j</td>\n",
       "      <td>0.000000+0.000000j</td>\n",
       "      <td>0.000000+0.000000j</td>\n",
       "    </tr>\n",
       "  </tbody>\n",
       "</table>\n",
       "</div>"
      ],
      "text/plain": [
       "                    a0_TE               a0_TM               b0_TE  \\\n",
       "a0_TE  0.000000+0.000000j  0.000000+0.000000j  0.999721+0.023620j   \n",
       "a0_TM  0.000000+0.000000j  0.000000+0.000000j  0.000000+0.000000j   \n",
       "b0_TE  0.999721+0.023620j  0.000000+0.000000j  0.000000+0.000000j   \n",
       "b0_TM  0.000000+0.000000j  0.705894-0.708317j  0.000000+0.000000j   \n",
       "\n",
       "                    b0_TM  \n",
       "a0_TE  0.000000+0.000000j  \n",
       "a0_TM  0.705894-0.708317j  \n",
       "b0_TE  0.000000+0.000000j  \n",
       "b0_TM  0.000000+0.000000j  "
      ]
     },
     "execution_count": 3,
     "metadata": {},
     "output_type": "execute_result"
    }
   ],
   "source": [
    "allowed={\n",
    "    'TE' : dict(pol=0, mode=0),\n",
    "    'TM'  : dict(pol=1, mode=0)    \n",
    "}\n",
    "\n",
    "S=nd.get_solver(e, allowed=allowed)\n",
    "S.solve(wl=1.55).S2PD()\n"
   ]
  },
  {
   "cell_type": "markdown",
   "metadata": {},
   "source": [
    "### Pre defined models\n",
    "In case of **GenSol** models directly added to a cell, the models needs to have already the right number of ports with the right names. For example, here is the definition of a polarization insensitive MMI:"
   ]
  },
  {
   "cell_type": "code",
   "execution_count": 4,
   "metadata": {},
   "outputs": [
    {
     "data": {
      "text/html": [
       "<div>\n",
       "<style scoped>\n",
       "    .dataframe tbody tr th:only-of-type {\n",
       "        vertical-align: middle;\n",
       "    }\n",
       "\n",
       "    .dataframe tbody tr th {\n",
       "        vertical-align: top;\n",
       "    }\n",
       "\n",
       "    .dataframe thead th {\n",
       "        text-align: right;\n",
       "    }\n",
       "</style>\n",
       "<table border=\"1\" class=\"dataframe\">\n",
       "  <thead>\n",
       "    <tr style=\"text-align: right;\">\n",
       "      <th></th>\n",
       "      <th>a0_TE</th>\n",
       "      <th>a0_TM</th>\n",
       "      <th>a1_TE</th>\n",
       "      <th>a1_TM</th>\n",
       "      <th>b0_TE</th>\n",
       "      <th>b0_TM</th>\n",
       "      <th>b1_TE</th>\n",
       "      <th>b1_TM</th>\n",
       "    </tr>\n",
       "  </thead>\n",
       "  <tbody>\n",
       "    <tr>\n",
       "      <th>a0_TE</th>\n",
       "      <td>0.000000</td>\n",
       "      <td>0.000000</td>\n",
       "      <td>0.000000</td>\n",
       "      <td>0.000000</td>\n",
       "      <td>0.707107</td>\n",
       "      <td>0.000000</td>\n",
       "      <td>0.707107</td>\n",
       "      <td>0.000000</td>\n",
       "    </tr>\n",
       "    <tr>\n",
       "      <th>a0_TM</th>\n",
       "      <td>0.000000</td>\n",
       "      <td>0.000000</td>\n",
       "      <td>0.000000</td>\n",
       "      <td>0.000000</td>\n",
       "      <td>0.000000</td>\n",
       "      <td>0.707107</td>\n",
       "      <td>0.000000</td>\n",
       "      <td>0.707107</td>\n",
       "    </tr>\n",
       "    <tr>\n",
       "      <th>a1_TE</th>\n",
       "      <td>0.000000</td>\n",
       "      <td>0.000000</td>\n",
       "      <td>0.000000</td>\n",
       "      <td>0.000000</td>\n",
       "      <td>0.707107</td>\n",
       "      <td>0.000000</td>\n",
       "      <td>0.707107</td>\n",
       "      <td>0.000000</td>\n",
       "    </tr>\n",
       "    <tr>\n",
       "      <th>a1_TM</th>\n",
       "      <td>0.000000</td>\n",
       "      <td>0.000000</td>\n",
       "      <td>0.000000</td>\n",
       "      <td>0.000000</td>\n",
       "      <td>0.000000</td>\n",
       "      <td>0.707107</td>\n",
       "      <td>0.000000</td>\n",
       "      <td>0.707107</td>\n",
       "    </tr>\n",
       "    <tr>\n",
       "      <th>b0_TE</th>\n",
       "      <td>0.707107</td>\n",
       "      <td>0.000000</td>\n",
       "      <td>0.707107</td>\n",
       "      <td>0.000000</td>\n",
       "      <td>0.000000</td>\n",
       "      <td>0.000000</td>\n",
       "      <td>0.000000</td>\n",
       "      <td>0.000000</td>\n",
       "    </tr>\n",
       "    <tr>\n",
       "      <th>b0_TM</th>\n",
       "      <td>0.000000</td>\n",
       "      <td>0.707107</td>\n",
       "      <td>0.000000</td>\n",
       "      <td>0.707107</td>\n",
       "      <td>0.000000</td>\n",
       "      <td>0.000000</td>\n",
       "      <td>0.000000</td>\n",
       "      <td>0.000000</td>\n",
       "    </tr>\n",
       "    <tr>\n",
       "      <th>b1_TE</th>\n",
       "      <td>0.707107</td>\n",
       "      <td>0.000000</td>\n",
       "      <td>0.707107</td>\n",
       "      <td>0.000000</td>\n",
       "      <td>0.000000</td>\n",
       "      <td>0.000000</td>\n",
       "      <td>0.000000</td>\n",
       "      <td>0.000000</td>\n",
       "    </tr>\n",
       "    <tr>\n",
       "      <th>b1_TM</th>\n",
       "      <td>0.000000</td>\n",
       "      <td>0.707107</td>\n",
       "      <td>0.000000</td>\n",
       "      <td>0.707107</td>\n",
       "      <td>0.000000</td>\n",
       "      <td>0.000000</td>\n",
       "      <td>0.000000</td>\n",
       "      <td>0.000000</td>\n",
       "    </tr>\n",
       "  </tbody>\n",
       "</table>\n",
       "</div>"
      ],
      "text/plain": [
       "          a0_TE     a0_TM     a1_TE     a1_TM     b0_TE     b0_TM     b1_TE  \\\n",
       "a0_TE  0.000000  0.000000  0.000000  0.000000  0.707107  0.000000  0.707107   \n",
       "a0_TM  0.000000  0.000000  0.000000  0.000000  0.000000  0.707107  0.000000   \n",
       "a1_TE  0.000000  0.000000  0.000000  0.000000  0.707107  0.000000  0.707107   \n",
       "a1_TM  0.000000  0.000000  0.000000  0.000000  0.000000  0.707107  0.000000   \n",
       "b0_TE  0.707107  0.000000  0.707107  0.000000  0.000000  0.000000  0.000000   \n",
       "b0_TM  0.000000  0.707107  0.000000  0.707107  0.000000  0.000000  0.000000   \n",
       "b1_TE  0.707107  0.000000  0.707107  0.000000  0.000000  0.000000  0.000000   \n",
       "b1_TM  0.000000  0.707107  0.000000  0.707107  0.000000  0.000000  0.000000   \n",
       "\n",
       "          b1_TM  \n",
       "a0_TE  0.000000  \n",
       "a0_TM  0.707107  \n",
       "a1_TE  0.000000  \n",
       "a1_TM  0.707107  \n",
       "b0_TE  0.000000  \n",
       "b0_TM  0.000000  \n",
       "b1_TE  0.000000  \n",
       "b1_TM  0.000000  "
      ]
     },
     "execution_count": 4,
     "metadata": {},
     "output_type": "execute_result"
    }
   ],
   "source": [
    "MMI = demo.mmi2x2_sh()\n",
    "MMI.model_info['model'] = sv.GeneralBeamSplitter().expand_mode(['TE','TM'])\n",
    "\n",
    "MMI.model_info['model'].S2PD(func=np.abs)\n"
   ]
  },
  {
   "cell_type": "markdown",
   "metadata": {},
   "source": [
    "And the one of a Polarization Rotator:"
   ]
  },
  {
   "cell_type": "code",
   "execution_count": 5,
   "metadata": {},
   "outputs": [
    {
     "data": {
      "text/html": [
       "<div>\n",
       "<style scoped>\n",
       "    .dataframe tbody tr th:only-of-type {\n",
       "        vertical-align: middle;\n",
       "    }\n",
       "\n",
       "    .dataframe tbody tr th {\n",
       "        vertical-align: top;\n",
       "    }\n",
       "\n",
       "    .dataframe thead th {\n",
       "        text-align: right;\n",
       "    }\n",
       "</style>\n",
       "<table border=\"1\" class=\"dataframe\">\n",
       "  <thead>\n",
       "    <tr style=\"text-align: right;\">\n",
       "      <th></th>\n",
       "      <th>a0_TE</th>\n",
       "      <th>a0_TM</th>\n",
       "      <th>b0_TE</th>\n",
       "      <th>b0_TM</th>\n",
       "    </tr>\n",
       "  </thead>\n",
       "  <tbody>\n",
       "    <tr>\n",
       "      <th>a0_TE</th>\n",
       "      <td>0.0</td>\n",
       "      <td>0.0</td>\n",
       "      <td>0.0</td>\n",
       "      <td>1.0</td>\n",
       "    </tr>\n",
       "    <tr>\n",
       "      <th>a0_TM</th>\n",
       "      <td>0.0</td>\n",
       "      <td>0.0</td>\n",
       "      <td>1.0</td>\n",
       "      <td>0.0</td>\n",
       "    </tr>\n",
       "    <tr>\n",
       "      <th>b0_TE</th>\n",
       "      <td>0.0</td>\n",
       "      <td>1.0</td>\n",
       "      <td>0.0</td>\n",
       "      <td>0.0</td>\n",
       "    </tr>\n",
       "    <tr>\n",
       "      <th>b0_TM</th>\n",
       "      <td>1.0</td>\n",
       "      <td>0.0</td>\n",
       "      <td>0.0</td>\n",
       "      <td>0.0</td>\n",
       "    </tr>\n",
       "  </tbody>\n",
       "</table>\n",
       "</div>"
      ],
      "text/plain": [
       "       a0_TE  a0_TM  b0_TE  b0_TM\n",
       "a0_TE    0.0    0.0    0.0    1.0\n",
       "a0_TM    0.0    0.0    1.0    0.0\n",
       "b0_TE    0.0    1.0    0.0    0.0\n",
       "b0_TM    1.0    0.0    0.0    0.0"
      ]
     },
     "execution_count": 5,
     "metadata": {},
     "output_type": "execute_result"
    }
   ],
   "source": [
    "with nd.Cell(name='PolRot') as PR:\n",
    "    e1 = demo.shallow.taper(width2=5.0, length=10.0)\n",
    "    e2 = demo.shallow.strt(width=5.0, length=20.0)\n",
    "    e3 = demo.shallow.taper(width1=5.0, length=10.0)\n",
    "    nd.Pin('a0', pin=e1.pin['a0']).put()\n",
    "    nd.Pin('b0', pin=e3.pin['b0']).put()\n",
    "    nd.put_stub()\n",
    "    \n",
    "pin_dic={\n",
    "    'a0_TE' : 0,\n",
    "    'a0_TM' : 1,\n",
    "    'b0_TE' : 2,\n",
    "    'b0_TM' : 3,\n",
    "}\n",
    "\n",
    "S = np.array([\n",
    "    [0.0, 0.0, 0.0, 1.0],\n",
    "    [0.0, 0.0, 1.0, 0.0],\n",
    "    [0.0, 1.0, 0.0, 0.0],\n",
    "    [1.0, 0.0, 0.0, 0.0]\n",
    "], dtype=complex)\n",
    "\n",
    "PR.model_info['model'] = sv.Model(pin_dic=pin_dic, Smatrix=S)\n",
    "PR.model_info['model'].S2PD(np.abs)\n",
    "\n"
   ]
  },
  {
   "cell_type": "markdown",
   "metadata": {},
   "source": [
    "### Combination of the 2\n",
    "The models obtained by `get_solver` could also be used in the building of new models. For example, building a thermal phase shifter with the same dispersion of a conventional waveguide, could be easily built in the following way:"
   ]
  },
  {
   "cell_type": "code",
   "execution_count": 6,
   "metadata": {},
   "outputs": [],
   "source": [
    "with nd.Cell(name='THPS') as PS:\n",
    "    t1=demo.metaldc.taper(width2=2.0,length=10.0).put()\n",
    "    demo.metaldc.strt(90.0,width=2.0).put()\n",
    "    t2=demo.metaldc.taper(width1=2.0,length=10.0).put()\n",
    "    \n",
    "    wg=demo.shallow.strt(100.0).put(5.0,0.0,0.0)\n",
    "    \n",
    "    nd.Pin('c0',pin=t1.pin['a0']).put()\n",
    "    nd.Pin('c1',pin=t2.pin['b0']).put()\n",
    "    nd.Pin('a0',pin=wg.pin['a0']).put()\n",
    "    nd.Pin('b0',pin=wg.pin['b0']).put()\n",
    "    \n",
    "wave = nd.get_solver(demo.shallow.strt(100.0), allowed=allowed)\n",
    "with sv.Solver(name='THPS') as S:\n",
    "    wg = wave.put()\n",
    "    ps = sv.PhaseShifter().expand_mode(['TE','TM']).put()\n",
    "    sv.connect_all(wg, 'b0', ps, 'a0')\n",
    "    sv.raise_pins()\n",
    "PS.model_info['model'] = S\n",
    "    "
   ]
  },
  {
   "cell_type": "markdown",
   "metadata": {},
   "source": [
    "If using this trick, just be careful to call `get_solver` with the same `allowed` parameter as the final call."
   ]
  },
  {
   "cell_type": "markdown",
   "metadata": {},
   "source": [
    "## Example: multimode MZI\n",
    "Here is the example of a multimode MZI (acting as a Polarization Beam splitter at 1.55), which uses the models defined in the previous sections:"
   ]
  },
  {
   "cell_type": "code",
   "execution_count": 7,
   "metadata": {},
   "outputs": [
    {
     "name": "stdout",
     "output_type": "stream",
     "text": [
      "INFO: layout.py: Added color to ShallowIcon, (1, 20, None)\n",
      "INFO: layout.py: Added color to ShallowStub, (1, 10, None)\n",
      "INFO: layout.py: Added color to ShallowTrenchStub, (2, 10, None)\n"
     ]
    },
    {
     "name": "stderr",
     "output_type": "stream",
     "text": [
      "/home/marco/Documents/Programs/NAZCA/git_nazca/nazca/layout.py:626: MatplotlibDeprecationWarning: \n",
      "The set_smart_bounds function was deprecated in Matplotlib 3.2 and will be removed two minor releases later.\n",
      "  ax.spines[\"left\"].set_smart_bounds(True)\n",
      "/home/marco/Documents/Programs/NAZCA/git_nazca/nazca/layout.py:629: MatplotlibDeprecationWarning: \n",
      "The set_smart_bounds function was deprecated in Matplotlib 3.2 and will be removed two minor releases later.\n",
      "  ax.spines[\"bottom\"].set_smart_bounds(True)\n"
     ]
    },
    {
     "data": {
      "image/png": "[encoded data removed]",
      "text/plain": [
       "<Figure size 1008x847.407 with 1 Axes>"
      ]
     },
     "metadata": {},
     "output_type": "display_data"
    }
   ],
   "source": [
    "with nd.Cell(name='DC_pad') as DCp:\n",
    "    demo.metaldc.strt(100.0,width=100.0).put(-50.0,0,0)\n",
    "    nd.Pin('a0',xs=demo.metaldc.xs).put(0,0,90.0)\n",
    "    \n",
    "\n",
    "with nd.Cell(name='MZM') as MZM_bal:\n",
    "    m1=MMI.put()\n",
    "    demo.shallow.sbend(offset=407.0).put()\n",
    "    ps=PS.put(param_mapping={'PS': 'PS1'})\n",
    "    demo.shallow.sbend(offset=-407.0).put()\n",
    "    m2=MMI.put()\n",
    "    demo.shallow.sbend(offset=-400.0).put(m1.pin['b1'])\n",
    "    ps2=PS.put(param_mapping={'PS': 'PS2'})\n",
    "    demo.shallow.sbend(offset=400.0).put()\n",
    "    \n",
    "    DCp.put(600.0,600.0,180.0)\n",
    "    demo.metaldc.strt_bend_strt_p2p(ps.pin['c0']).put()\n",
    "    DCp.put(1000.0,600.0,180.0)\n",
    "    demo.metaldc.strt_bend_strt_p2p(ps.pin['c1']).put()\n",
    "\n",
    "    DCp.put(400.0,600.0,180.0)\n",
    "    demo.metaldc.strt_bend_strt_p2p(ps2.pin['c0']).put()\n",
    "    DCp.put(1200.0,600.0,180.0)\n",
    "    demo.metaldc.strt_bend_strt_p2p(ps2.pin['c1']).put()\n",
    "    \n",
    "    \n",
    "    nd.Pin('a0',pin=m1.pin['a0']).put()\n",
    "    nd.Pin('a1',pin=m1.pin['a1']).put()\n",
    "    nd.Pin('b0',pin=m2.pin['b0']).put()\n",
    "    nd.Pin('b1',pin=m2.pin['b1']).put()\n",
    "    \n",
    "nd.export_plt(topcells=MZM_bal)\n",
    "\n",
    "sol=nd.get_solver(MZM_bal, allowed=allowed)"
   ]
  },
  {
   "cell_type": "code",
   "execution_count": 8,
   "metadata": {},
   "outputs": [
    {
     "data": {
      "text/plain": [
       "<matplotlib.legend.Legend at 0x7fa2a7b449e8>"
      ]
     },
     "execution_count": 8,
     "metadata": {},
     "output_type": "execute_result"
    },
    {
     "data": {
      "image/png": "[encoded data removed]",
      "text/plain": [
       "<Figure size 432x288 with 1 Axes>"
      ]
     },
     "metadata": {
      "needs_background": "light"
     },
     "output_type": "display_data"
    }
   ],
   "source": [
    "M = sol.solve(wl=np.linspace(1.5,1.6,201))\n",
    "T = M.get_data('a0_TE', 'b0_TE')\n",
    "plt.plot(T['wl'], T['T'], label='a0 -> b0 TE')\n",
    "T = M.get_data('a0_TM', 'b0_TM')\n",
    "plt.plot(T['wl'], T['T'], label='a0 -> b0 TM')\n",
    "plt.legend()"
   ]
  }
 ],
 "metadata": {
  "kernelspec": {
   "display_name": "Python 3",
   "language": "python",
   "name": "python3"
  },
  "language_info": {
   "codemirror_mode": {
    "name": "ipython",
    "version": 3
   },
   "file_extension": ".py",
   "mimetype": "text/x-python",
   "name": "python",
   "nbconvert_exporter": "python",
   "pygments_lexer": "ipython3",
   "version": "3.6.9"
  }
 },
 "nbformat": 4,
 "nbformat_minor": 4
}
