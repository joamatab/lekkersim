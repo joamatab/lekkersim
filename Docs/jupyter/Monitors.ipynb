{
 "cells": [
  {
   "cell_type": "code",
   "execution_count": 25,
   "metadata": {},
   "outputs": [],
   "source": [
    "import solver as sv\n",
    "import numpy as np\n",
    "import matplotlib.pyplot as plt"
   ]
  },
  {
   "cell_type": "markdown",
   "metadata": {},
   "source": [
    "# Monitor internal power flow\n",
    "Whithin the GenSol package it is also possible to monitor the power flowing inside the circuit, once the appropriate boundary conditions are supplied. To do this is necessary to define the structure for which to monitor the port before the simulation is done. This because no internal information can be extracted from the general scattering matrix of the system once it is build, and so the process of building the matrix has to be slightly modified in order to take this into account. \n",
    "\n",
    "For now this is more of a beta function. Possible changes in the syntax are still possible."
   ]
  },
  {
   "cell_type": "markdown",
   "metadata": {},
   "source": [
    "## Workflow\n",
    "\n",
    "The adding of monitors is designed to be as painless as possible. The workflow is basically the same, with the addition of a few commands.\n",
    "\n",
    "### Adding monitors\n",
    "For adding monitors to the simulation two function are provided:\n",
    " - `Solver.monitor_structure(structure, name)`\n",
    " - `add_structure_to_monitors(structure, name)`\n",
    "\n",
    "The two functions are exactly the same, with the only difference that the first one is a method of the `Solver` object, so it as to be called on one, while the other is implicitly acting on the active solver (for example, within a `with` statement).\n",
    "\n",
    "Both functions accept as input a structure object (the one to be monitored) and a string (the name associated with the monitor). In this way, after running the simulation, is possible to retrieve information about the modal coefficients at the input and output ports of the monitored structure\n",
    "\n",
    "As for now monitors are only available at top level. If a monitor is defined for a solver which is then nested into another, access to the monitor is lost (but the full simulation of the top solver will work just fine)\n",
    "\n",
    "### Accessing the data\n",
    "Once the simulation is complete (by calling the `solve` method) and the `SolvedModel` is obtained, getting the data from the monitor is just a matter of calling the method `get_monitor(input_dic)` on the obtained `SolvedModel`. The method takes a input a dictionary if the inputs coefficients (see also the method `get_full_output`) and returns a pandas `DataFrame` object wiht the results. The `DataFrame` contains a columns for each parameter provided to `solve`, plus two columns for each pin of each structure to be monitored (one columns contain the input coefficient, the other the output coefficients). \n",
    "Additionaly, the method also a boolean keyword argument `power`. If `True` (default) the returned vector contain the power in the modes (modulus squared of th coefficients), otherwise the full vector of complex coefficient is returned. \n",
    "\n"
   ]
  },
  {
   "cell_type": "markdown",
   "metadata": {},
   "source": [
    "## Examples\n",
    "\n",
    "### Add-Drop filter\n",
    "Typical case of use of such feature is the monitoring of the stored power inside a resonator. So, we will built a standard add-drop filter and use this method to calculate the field enhanced inside the ring."
   ]
  },
  {
   "cell_type": "code",
   "execution_count": 26,
   "metadata": {},
   "outputs": [],
   "source": [
    "with sv.Solver() as AddDrop:\n",
    "    BM = sv.BeamSplitter(ratio=0.1)\n",
    "    WG = sv.Waveguide(100.0)\n",
    "    bm1 = BM.put()\n",
    "    bm2 = BM.put()\n",
    "    wg1 = WG.put()\n",
    "    wg2 = WG.put()\n",
    "    sv.connect(bm1.pin['b1'], wg1.pin['a0'])\n",
    "    sv.connect(bm2.pin['b0'], wg1.pin['b0'])\n",
    "    sv.connect(bm1.pin['a1'], wg2.pin['a0'])\n",
    "    sv.connect(bm2.pin['a0'], wg2.pin['b0'])\n",
    "    sv.raise_pins()\n",
    "    sv.add_structure_to_monitors(wg1, 'right')\n",
    "    \n",
    "\n",
    "\n"
   ]
  },
  {
   "cell_type": "markdown",
   "metadata": {},
   "source": [
    "Once the circuit is defined, we could plot the transmission spectrum to check it is working. "
   ]
  },
  {
   "cell_type": "code",
   "execution_count": 27,
   "metadata": {},
   "outputs": [
    {
     "data": {
      "text/plain": [
       "<matplotlib.legend.Legend at 0x7fa8b8d8fe50>"
      ]
     },
     "execution_count": 27,
     "metadata": {},
     "output_type": "execute_result"
    },
    {
     "data": {
      "image/png": "[encoded data removed]",
      "text/plain": [
       "<Figure size 864x432 with 1 Axes>"
      ]
     },
     "metadata": {
      "needs_background": "light"
     },
     "output_type": "display_data"
    }
   ],
   "source": [
    "wll = np.linspace(1.54,1.56,401)\n",
    "M = AddDrop.solve(wl=wll)\n",
    "T = M.get_data('a0','b0')\n",
    "D = M.get_data('a0','a1')\n",
    "plt.figure(figsize=(12,6))\n",
    "plt.plot(wll, T['T'], label = 'Though')\n",
    "plt.plot(wll, D['T'], label = 'Drop')\n",
    "plt.xlabel('Wavelength [um]')\n",
    "plt.ylabel('Transmoission')\n",
    "plt.grid()\n",
    "plt.legend()"
   ]
  },
  {
   "cell_type": "markdown",
   "metadata": {},
   "source": [
    "At this point we could check the internal power by doing:"
   ]
  },
  {
   "cell_type": "code",
   "execution_count": 28,
   "metadata": {},
   "outputs": [
    {
     "name": "stdout",
     "output_type": "stream",
     "text": [
      "          wl  right_b0_i  right_b0_o  right_a0_i  right_a0_o\n",
      "0    1.54000         0.0    0.173387    0.173387         0.0\n",
      "1    1.54005         0.0    0.163423    0.163423         0.0\n",
      "2    1.54010         0.0    0.154342    0.154342         0.0\n",
      "3    1.54015         0.0    0.146044    0.146044         0.0\n",
      "4    1.54020         0.0    0.138441    0.138441         0.0\n",
      "..       ...         ...         ...         ...         ...\n",
      "396  1.55980         0.0    0.067108    0.067108         0.0\n",
      "397  1.55985         0.0    0.069228    0.069228         0.0\n",
      "398  1.55990         0.0    0.071474    0.071474         0.0\n",
      "399  1.55995         0.0    0.073855    0.073855         0.0\n",
      "400  1.56000         0.0    0.076382    0.076382         0.0\n",
      "\n",
      "[401 rows x 5 columns]\n"
     ]
    }
   ],
   "source": [
    "I = M.get_monitor({'a0' : 1.0})\n",
    "print(I)"
   ]
  },
  {
   "cell_type": "markdown",
   "metadata": {},
   "source": [
    "As can be seen, the table obtained has 4 coulums of infomation, named form the name of the monittor, the name of the pin and 'i/o' indicating the direction of the mode. In this case light is traveling only in one direction ('a0'->'b0'), so two of the columns ('b0_i' and 'a0_o') are zeros. Moreover, since the waveguide is lossless, the input and output power coincide, the the two remaining columns are equal. To get the feeling of the magnitude of the files inside, we could plot the result:"
   ]
  },
  {
   "cell_type": "code",
   "execution_count": 29,
   "metadata": {},
   "outputs": [
    {
     "data": {
      "image/png": "[encoded data removed]",
      "text/plain": [
       "<Figure size 1080x432 with 1 Axes>"
      ]
     },
     "metadata": {
      "needs_background": "light"
     },
     "output_type": "display_data"
    }
   ],
   "source": [
    "plt.figure(figsize=(15,6))\n",
    "plt.plot(wll, I['right_a0_i'])\n",
    "plt.xlabel('Wavelength [um]')\n",
    "plt.ylabel('Power/input power')\n",
    "plt.grid()\n"
   ]
  },
  {
   "cell_type": "markdown",
   "metadata": {},
   "source": [
    "### Adding more monitors\n",
    "It is indeed possible to monitor more than one structure, simply by adding more of them. To illustrate also the use of `Solver.monitor_structure(structure, name)`, we will add another monitor to the add-drop already available."
   ]
  },
  {
   "cell_type": "code",
   "execution_count": 30,
   "metadata": {},
   "outputs": [
    {
     "data": {
      "text/html": [
       "<div>\n",
       "<style scoped>\n",
       "    .dataframe tbody tr th:only-of-type {\n",
       "        vertical-align: middle;\n",
       "    }\n",
       "\n",
       "    .dataframe tbody tr th {\n",
       "        vertical-align: top;\n",
       "    }\n",
       "\n",
       "    .dataframe thead th {\n",
       "        text-align: right;\n",
       "    }\n",
       "</style>\n",
       "<table border=\"1\" class=\"dataframe\">\n",
       "  <thead>\n",
       "    <tr style=\"text-align: right;\">\n",
       "      <th></th>\n",
       "      <th>wl</th>\n",
       "      <th>right_a0_i</th>\n",
       "      <th>right_a0_o</th>\n",
       "      <th>left_a0_i</th>\n",
       "      <th>left_a0_o</th>\n",
       "      <th>right_b0_i</th>\n",
       "      <th>right_b0_o</th>\n",
       "      <th>left_b0_i</th>\n",
       "      <th>left_b0_o</th>\n",
       "    </tr>\n",
       "  </thead>\n",
       "  <tbody>\n",
       "    <tr>\n",
       "      <th>0</th>\n",
       "      <td>1.54000</td>\n",
       "      <td>0.173387</td>\n",
       "      <td>0.0</td>\n",
       "      <td>0.0</td>\n",
       "      <td>0.156048</td>\n",
       "      <td>0.0</td>\n",
       "      <td>0.173387</td>\n",
       "      <td>0.156048</td>\n",
       "      <td>0.0</td>\n",
       "    </tr>\n",
       "    <tr>\n",
       "      <th>1</th>\n",
       "      <td>1.54005</td>\n",
       "      <td>0.163423</td>\n",
       "      <td>0.0</td>\n",
       "      <td>0.0</td>\n",
       "      <td>0.147081</td>\n",
       "      <td>0.0</td>\n",
       "      <td>0.163423</td>\n",
       "      <td>0.147081</td>\n",
       "      <td>0.0</td>\n",
       "    </tr>\n",
       "    <tr>\n",
       "      <th>2</th>\n",
       "      <td>1.54010</td>\n",
       "      <td>0.154342</td>\n",
       "      <td>0.0</td>\n",
       "      <td>0.0</td>\n",
       "      <td>0.138908</td>\n",
       "      <td>0.0</td>\n",
       "      <td>0.154342</td>\n",
       "      <td>0.138908</td>\n",
       "      <td>0.0</td>\n",
       "    </tr>\n",
       "    <tr>\n",
       "      <th>3</th>\n",
       "      <td>1.54015</td>\n",
       "      <td>0.146044</td>\n",
       "      <td>0.0</td>\n",
       "      <td>0.0</td>\n",
       "      <td>0.131439</td>\n",
       "      <td>0.0</td>\n",
       "      <td>0.146044</td>\n",
       "      <td>0.131439</td>\n",
       "      <td>0.0</td>\n",
       "    </tr>\n",
       "    <tr>\n",
       "      <th>4</th>\n",
       "      <td>1.54020</td>\n",
       "      <td>0.138441</td>\n",
       "      <td>0.0</td>\n",
       "      <td>0.0</td>\n",
       "      <td>0.124597</td>\n",
       "      <td>0.0</td>\n",
       "      <td>0.138441</td>\n",
       "      <td>0.124597</td>\n",
       "      <td>0.0</td>\n",
       "    </tr>\n",
       "    <tr>\n",
       "      <th>...</th>\n",
       "      <td>...</td>\n",
       "      <td>...</td>\n",
       "      <td>...</td>\n",
       "      <td>...</td>\n",
       "      <td>...</td>\n",
       "      <td>...</td>\n",
       "      <td>...</td>\n",
       "      <td>...</td>\n",
       "      <td>...</td>\n",
       "    </tr>\n",
       "    <tr>\n",
       "      <th>396</th>\n",
       "      <td>1.55980</td>\n",
       "      <td>0.067108</td>\n",
       "      <td>0.0</td>\n",
       "      <td>0.0</td>\n",
       "      <td>0.060397</td>\n",
       "      <td>0.0</td>\n",
       "      <td>0.067108</td>\n",
       "      <td>0.060397</td>\n",
       "      <td>0.0</td>\n",
       "    </tr>\n",
       "    <tr>\n",
       "      <th>397</th>\n",
       "      <td>1.55985</td>\n",
       "      <td>0.069228</td>\n",
       "      <td>0.0</td>\n",
       "      <td>0.0</td>\n",
       "      <td>0.062305</td>\n",
       "      <td>0.0</td>\n",
       "      <td>0.069228</td>\n",
       "      <td>0.062305</td>\n",
       "      <td>0.0</td>\n",
       "    </tr>\n",
       "    <tr>\n",
       "      <th>398</th>\n",
       "      <td>1.55990</td>\n",
       "      <td>0.071474</td>\n",
       "      <td>0.0</td>\n",
       "      <td>0.0</td>\n",
       "      <td>0.064326</td>\n",
       "      <td>0.0</td>\n",
       "      <td>0.071474</td>\n",
       "      <td>0.064326</td>\n",
       "      <td>0.0</td>\n",
       "    </tr>\n",
       "    <tr>\n",
       "      <th>399</th>\n",
       "      <td>1.55995</td>\n",
       "      <td>0.073855</td>\n",
       "      <td>0.0</td>\n",
       "      <td>0.0</td>\n",
       "      <td>0.066469</td>\n",
       "      <td>0.0</td>\n",
       "      <td>0.073855</td>\n",
       "      <td>0.066469</td>\n",
       "      <td>0.0</td>\n",
       "    </tr>\n",
       "    <tr>\n",
       "      <th>400</th>\n",
       "      <td>1.56000</td>\n",
       "      <td>0.076382</td>\n",
       "      <td>0.0</td>\n",
       "      <td>0.0</td>\n",
       "      <td>0.068744</td>\n",
       "      <td>0.0</td>\n",
       "      <td>0.076382</td>\n",
       "      <td>0.068744</td>\n",
       "      <td>0.0</td>\n",
       "    </tr>\n",
       "  </tbody>\n",
       "</table>\n",
       "<p>401 rows × 9 columns</p>\n",
       "</div>"
      ],
      "text/plain": [
       "          wl  right_a0_i  right_a0_o  left_a0_i  left_a0_o  right_b0_i  \\\n",
       "0    1.54000    0.173387         0.0        0.0   0.156048         0.0   \n",
       "1    1.54005    0.163423         0.0        0.0   0.147081         0.0   \n",
       "2    1.54010    0.154342         0.0        0.0   0.138908         0.0   \n",
       "3    1.54015    0.146044         0.0        0.0   0.131439         0.0   \n",
       "4    1.54020    0.138441         0.0        0.0   0.124597         0.0   \n",
       "..       ...         ...         ...        ...        ...         ...   \n",
       "396  1.55980    0.067108         0.0        0.0   0.060397         0.0   \n",
       "397  1.55985    0.069228         0.0        0.0   0.062305         0.0   \n",
       "398  1.55990    0.071474         0.0        0.0   0.064326         0.0   \n",
       "399  1.55995    0.073855         0.0        0.0   0.066469         0.0   \n",
       "400  1.56000    0.076382         0.0        0.0   0.068744         0.0   \n",
       "\n",
       "     right_b0_o  left_b0_i  left_b0_o  \n",
       "0      0.173387   0.156048        0.0  \n",
       "1      0.163423   0.147081        0.0  \n",
       "2      0.154342   0.138908        0.0  \n",
       "3      0.146044   0.131439        0.0  \n",
       "4      0.138441   0.124597        0.0  \n",
       "..          ...        ...        ...  \n",
       "396    0.067108   0.060397        0.0  \n",
       "397    0.069228   0.062305        0.0  \n",
       "398    0.071474   0.064326        0.0  \n",
       "399    0.073855   0.066469        0.0  \n",
       "400    0.076382   0.068744        0.0  \n",
       "\n",
       "[401 rows x 9 columns]"
      ]
     },
     "execution_count": 30,
     "metadata": {},
     "output_type": "execute_result"
    }
   ],
   "source": [
    "AddDrop.monitor_structure(wg2, 'left')\n",
    "M = AddDrop.solve(wl=wll)\n",
    "I = M.get_monitor({'a0' : 1.0})\n",
    "I"
   ]
  },
  {
   "cell_type": "markdown",
   "metadata": {},
   "source": [
    "As we see now, the `DataFrame` has 8 columns of information. The same consideration on direction and intensity of light as before apply. The results are plotted for completeness. As we will see, the power in the two monitor will not be the same, since part of it is dropped half-way of the ring. "
   ]
  },
  {
   "cell_type": "code",
   "execution_count": 31,
   "metadata": {},
   "outputs": [
    {
     "data": {
      "image/png": "[encoded data removed]",
      "text/plain": [
       "<Figure size 1080x432 with 1 Axes>"
      ]
     },
     "metadata": {
      "needs_background": "light"
     },
     "output_type": "display_data"
    }
   ],
   "source": [
    "plt.figure(figsize=(15,6))\n",
    "plt.plot(wll, I['right_a0_i'], label='Right Monitor')\n",
    "plt.plot(wll, I['left_b0_i'], label='Left Monitor')\n",
    "plt.legend()\n",
    "plt.xlabel('Wavelength [um]')\n",
    "plt.ylabel('Power/input power')\n",
    "plt.grid()"
   ]
  },
  {
   "cell_type": "code",
   "execution_count": null,
   "metadata": {},
   "outputs": [],
   "source": []
  }
 ],
 "metadata": {
  "interpreter": {
   "hash": "e7370f93d1d0cde622a1f8e1c04877d8463912d04d973331ad4851f04de6915a"
  },
  "kernelspec": {
   "display_name": "Python 3.8.10 64-bit",
   "language": "python",
   "name": "python3"
  },
  "language_info": {
   "codemirror_mode": {
    "name": "ipython",
    "version": 3
   },
   "file_extension": ".py",
   "mimetype": "text/x-python",
   "name": "python",
   "nbconvert_exporter": "python",
   "pygments_lexer": "ipython3",
   "version": "3.8.10"
  }
 },
 "nbformat": 4,
 "nbformat_minor": 4
}
